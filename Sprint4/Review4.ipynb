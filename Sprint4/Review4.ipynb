{
 "cells": [
  {
   "cell_type": "code",
   "execution_count": 11,
   "metadata": {
    "dotnet_interactive": {
     "language": "csharp"
    },
    "polyglot_notebook": {
     "kernelName": "csharp"
    },
    "vscode": {
     "languageId": "polyglot-notebook"
    }
   },
   "outputs": [
    {
     "name": "stdout",
     "output_type": "stream",
     "text": [
      "Список поставщиков:\n",
      "Логистический центр - Стоимость услуг: 100000\n",
      "Поставщик офисной мебели - Стоимость услуг: 50000\n",
      "\n",
      "Список сотрудников:\n",
      "Иван Иванов - Должность: Менеджер - Зарплата: 70000\n",
      "Анна Петрова - Должность: Разработчик - Зарплата: 95000\n",
      "\n",
      "Общие расходы: 150000\n"
     ]
    }
   ],
   "source": [
    "using System.Collections.Generic; // Добавлено для использования List<T>\n",
    "using System.Linq; // Добавлено для использования LINQ-метода Sum\n",
    "\n",
    "// интерфейсы определяют общие методы и свойства для работы с предприятием, \n",
    "//поставщиками и сотрудниками соответственно.\n",
    "public interface IEnterprise\n",
    "{\n",
    "    void AddSupplier(ISupplier supplier);         //Добавляет нового поставщика к предприятию.\n",
    "    void AddEmployee(IEmployee employee);         //Добавляет нового сотрудника к предприятию.\n",
    "    List<ISupplier> GetSuppliers();               //Возвращает список всех поставщиков.\n",
    "    decimal CalculateTotalExpenses();             //Вычисляет общую сумму расходов на услуги поставщиков.\n",
    "}\n",
    "//ISupplier - это тип параметра, который должен реализовывать интерфейс ISupplier.\n",
    "//supplier - это имя переменной, которая будет содержать значение переданного аргумента\n",
    "\n",
    "\n",
    "public interface ISupplier\n",
    "{\n",
    "    string GetName();                     //Возвращает название поставщика.\n",
    "    decimal GetCost();                    //Возвращает стоимость услуг поставщика.\n",
    "    SupplierType Type { get; set; }       //Свойство для указания типа поставщика.\n",
    "}\n",
    "\n",
    "\n",
    "public interface IEmployee\n",
    "{\n",
    "    string GetFullName();                  // Возвращает полное имя сотрудника.\n",
    "    decimal GetSalary();                   //Возвращает зарплату сотрудника.\n",
    "    string Position { get; set; }          //Свойство для указания должности сотрудника.\n",
    "}\n",
    "\n",
    "\n",
    "public enum SupplierType //объявление перечисления (enum)\n",
    "{\n",
    "    Logistics,\n",
    "    OfficeEquipment,\n",
    "    ITEquipment\n",
    "}\n",
    "//представляют три возможных типа поставщиков.\n",
    "\n",
    "\n",
    "\n",
    "public class Enterprise : IEnterprise\n",
    "{   //generics для типов ISupplier и IEmployee\n",
    "    public List<ISupplier> _suppliers = new List<ISupplier>();     //для хранения объектов поставщиков (_suppliers)\n",
    "    public List<IEmployee> _employees = new List<IEmployee>();     //для хранения объектов сотрудников (_employees)\n",
    "\n",
    "    public void AddSupplier(ISupplier supplier)                    //добавляет новый поставщика в список _suppliers\n",
    "    {\n",
    "        _suppliers.Add(supplier);\n",
    "    }\n",
    "\n",
    "    public void AddEmployee(IEmployee employee)                    //обавления сотрудника в список _employees.\n",
    "    {\n",
    "        _employees.Add(employee);\n",
    "    }\n",
    "\n",
    "    public List<ISupplier> GetSuppliers()\n",
    "    {\n",
    "        return _suppliers; //возвращает список всех текущих поставщиков. Он просто возвращает внутренний список\n",
    "    }\n",
    "\n",
    "    public decimal CalculateTotalExpenses()          //вычисляет общую сумму расходов на услуги всех поставщиков.\n",
    "    {\n",
    "        //  s - это параметр, который принимает каждый элемент списка _suppliers.\n",
    "        //  s.GetCost() - вызывает метод GetCost() для каждого поставщика.\n",
    "        //  _suppliers.Sum(s => s.GetCost()); - вычисляет сумму всех значений GetCost().\n",
    "        return _suppliers.Sum(s => s.GetCost()); \n",
    "    }\n",
    "}\n",
    "//.Sum(...): Это метод коллекции List\n",
    "\n",
    "\n",
    "public class Supplier : ISupplier\n",
    "{\n",
    "    public string Name { get; set; }\n",
    "    public decimal Cost { get; set; }\n",
    "    public SupplierType Type { get; set; }\n",
    "\n",
    "    public string GetName() => Name;\n",
    "    public decimal GetCost() => Cost;\n",
    "}\n",
    "\n",
    "\n",
    "public class Employee : IEmployee\n",
    "{\n",
    "    public string FullName { get; set; }\n",
    "    public decimal Salary { get; set; }\n",
    "    public string Position { get; set; }\n",
    "\n",
    "    public string GetFullName() => FullName;\n",
    "    public decimal GetSalary() => Salary;\n",
    "}\n",
    "var enterprise = new Enterprise();\n",
    "// Добавление поставщиков\n",
    "enterprise.AddSupplier(new Supplier { Name = \"Логистический центр\", Cost = 100000m, Type = SupplierType.Logistics }); //SupplierType.Logistics указывает тип поставщика как логистического центра\n",
    "enterprise.AddSupplier(new Supplier { Name = \"Поставщик офисной мебели\", Cost = 50000m, Type = SupplierType.OfficeEquipment });\n",
    "\n",
    "//enterprise - это экземпляр класса Enterprise. AddSupplier вызывается на этом объекте. new Supplier(...) создает новый объект типа Supplier, который реализует интерфейс ISupplier.\n",
    "\n",
    "\n",
    "        // Добавление сотрудников\n",
    "enterprise.AddEmployee(new Employee { FullName = \"Иван Иванов\", Salary = 70000m, Position = \"Менеджер\" });\n",
    "enterprise.AddEmployee(new Employee { FullName = \"Анна Петрова\", Salary = 95000m, Position = \"Разработчик\" });\n",
    "\n",
    "        // Вывод списка поставщиков и сотрудников\n",
    "Console.WriteLine(\"Список поставщиков:\");\n",
    "foreach (var supplier in enterprise.GetSuppliers())\n",
    "    {\n",
    "        Console.WriteLine($\"{supplier.GetName()} - Стоимость услуг: {supplier.GetCost()}\");\n",
    "    }\n",
    "\n",
    "Console.WriteLine(\"\\nСписок сотрудников:\");\n",
    "    foreach (var employee in enterprise._employees)\n",
    "    {\n",
    "        Console.WriteLine($\"{employee.GetFullName()} - Должность: {employee.Position} - Зарплата: {employee.GetSalary()}\");\n",
    "    }\n",
    "\n",
    "        // Вычисление общих расходов\n",
    "decimal totalExpenses = enterprise.CalculateTotalExpenses();\n",
    "Console.WriteLine($\"\\nОбщие расходы: {totalExpenses}\");\n",
    "     "
   ]
  }
 ],
 "metadata": {
  "kernelspec": {
   "display_name": ".NET (C#)",
   "language": "C#",
   "name": ".net-csharp"
  },
  "language_info": {
   "name": "csharp"
  },
  "polyglot_notebook": {
   "kernelInfo": {
    "defaultKernelName": "csharp",
    "items": [
     {
      "aliases": [],
      "name": "csharp"
     }
    ]
   }
  }
 },
 "nbformat": 4,
 "nbformat_minor": 2
}
